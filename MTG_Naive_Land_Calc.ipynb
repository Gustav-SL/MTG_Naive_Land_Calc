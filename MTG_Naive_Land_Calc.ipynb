{
 "cells": [
  {
   "cell_type": "code",
   "execution_count": 4,
   "metadata": {},
   "outputs": [],
   "source": [
    "import numpy as np\n",
    "import matplotlib.pyplot as plt"
   ]
  },
  {
   "cell_type": "code",
   "execution_count": 5,
   "metadata": {},
   "outputs": [],
   "source": [
    "def rand_mat(cards, lands, N):\n",
    "    \"\"\"Creates a matrix of size N x cards with lands in the first lands columns.\"\"\"\n",
    "    X = np.zeros((N, cards), dtype=int)\n",
    "    X[:, :lands] = 1\n",
    "    return np.random.default_rng().permuted(X, axis=1)\n",
    "\n",
    "def mulligan(mat, cards, lands, inihand):\n",
    "    bool_list = mat[:, :inihand].sum(axis=1) < 3\n",
    "    replace_count = bool_list.sum()\n",
    "    mat_replacers = rand_mat(cards, lands, replace_count)\n",
    "    mat[bool_list] = mat_replacers\n",
    "    return mat\n",
    "\n",
    "def check_mat(mat, N):\n",
    "    land_list = mat[:, :11].sum(axis=1)\n",
    "    return len(land_list[land_list > 3]) / N * 100\n",
    "\n",
    "def land_func(N, succes_rate_percentage, cards=100, inihand=7, start=30, end=50):\n",
    "    for i in range(start, end):\n",
    "        mat1 = rand_mat(cards, i, N)\n",
    "        mat2 = mulligan(mat1, cards, i, inihand)\n",
    "        mat3 = mulligan(mat2, cards, i, inihand)\n",
    "        if check_mat(mat3, N) > succes_rate_percentage:\n",
    "            return i\n",
    "    return 'Error'"
   ]
  },
  {
   "cell_type": "code",
   "execution_count": 8,
   "metadata": {},
   "outputs": [
    {
     "data": {
      "text/plain": [
       "array([39, 42, 41, 40, 40, 41, 41, 41, 40, 41, 40, 40, 42, 41, 39, 41, 41,\n",
       "       40, 39, 41, 42, 41, 40, 41, 42, 41, 41, 41, 41, 40, 41, 40, 41, 40,\n",
       "       40, 42, 40, 41, 40, 40, 40, 40, 41, 40, 40, 40, 40, 41, 40, 40, 40,\n",
       "       41, 40, 42, 41, 40, 41, 42, 41, 41, 40, 41, 42, 40, 40, 41, 41, 41,\n",
       "       41, 40, 39, 40, 40, 42, 41, 40, 41, 41, 41, 41, 40, 41, 40, 41, 40,\n",
       "       42, 41, 41, 41, 41, 42, 41, 42, 40, 41, 42, 41, 41, 40, 41])"
      ]
     },
     "execution_count": 8,
     "metadata": {},
     "output_type": "execute_result"
    }
   ],
   "source": [
    "N = 1000\n",
    "succes_rate_percentage = 90\n",
    "\n",
    "land_func(N, succes_rate_percentage)\n",
    "output_list = np.array([land_func(N, succes_rate_percentage) for i in range(100)])\n",
    "output_list"
   ]
  },
  {
   "cell_type": "code",
   "execution_count": 9,
   "metadata": {},
   "outputs": [
    {
     "data": {
      "text/plain": [
       "40.68"
      ]
     },
     "execution_count": 9,
     "metadata": {},
     "output_type": "execute_result"
    }
   ],
   "source": [
    "output_list.mean()"
   ]
  },
  {
   "cell_type": "code",
   "execution_count": null,
   "metadata": {},
   "outputs": [],
   "source": []
  }
 ],
 "metadata": {
  "kernelspec": {
   "display_name": "Python 3",
   "language": "python",
   "name": "python3"
  },
  "language_info": {
   "codemirror_mode": {
    "name": "ipython",
    "version": 3
   },
   "file_extension": ".py",
   "mimetype": "text/x-python",
   "name": "python",
   "nbconvert_exporter": "python",
   "pygments_lexer": "ipython3",
   "version": "3.12.3"
  }
 },
 "nbformat": 4,
 "nbformat_minor": 2
}
